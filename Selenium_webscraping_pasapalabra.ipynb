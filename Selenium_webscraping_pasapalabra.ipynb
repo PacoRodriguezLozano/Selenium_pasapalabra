{
 "cells": [
  {
   "cell_type": "markdown",
   "id": "5cf02a04",
   "metadata": {},
   "source": [
    "## Import libraries"
   ]
  },
  {
   "cell_type": "code",
   "execution_count": 1,
   "id": "743ae0f6",
   "metadata": {},
   "outputs": [],
   "source": [
    "from selenium import webdriver\n",
    "import time"
   ]
  },
  {
   "cell_type": "markdown",
   "id": "36f64296",
   "metadata": {},
   "source": [
    "## Functions"
   ]
  },
  {
   "cell_type": "code",
   "execution_count": 2,
   "id": "d0a5bf8b",
   "metadata": {},
   "outputs": [],
   "source": [
    "def is_date_program(date, driver):\n",
    "    \n",
    "    out = False\n",
    "    \n",
    "    programs = driver.find_elements_by_class_name('cards__postcard__date_time-3Ach')\n",
    "    programs_dates = [element.text for element in programs]\n",
    "    \n",
    "    if date in programs_dates:\n",
    "        out = True\n",
    "        \n",
    "    return out\n",
    "    "
   ]
  },
  {
   "cell_type": "code",
   "execution_count": 3,
   "id": "a0f660be",
   "metadata": {},
   "outputs": [],
   "source": [
    "def pasapalabra_program_by_date(program_date):\n",
    "    '''\n",
    "    program_date format: 'dd/mm/yy'\n",
    "    '''\n",
    "\n",
    "    driver = webdriver.Firefox(executable_path='./driver/geckodriver')\n",
    "    driver.get('https://www.telecinco.es/pasapalabra/')\n",
    "    cookies_agree_button = driver.find_element_by_id('didomi-notice-agree-button')\n",
    "    cookies_agree_button.click()\n",
    "\n",
    "    for i in range(100):\n",
    "        if is_date_program(program_date, driver):\n",
    "\n",
    "            programs = driver.find_elements_by_class_name('cards__postcard__content-1w21 ')\n",
    "\n",
    "            for program in programs:\n",
    "                article = program.find_element_by_class_name('cards__postcard__date_time-3Ach')\n",
    "\n",
    "                if program_date == article.text:\n",
    "                    link_program = program.find_element_by_tag_name('a').get_property('href')\n",
    "                    break\n",
    "\n",
    "            driver.get(link_program)\n",
    "            break\n",
    "\n",
    "        more_results_button =  driver.find_element_by_class_name('pagination__pagination_viewmore-z9ko')\n",
    "        more_results_button.click()\n",
    "        time.sleep(3)"
   ]
  },
  {
   "cell_type": "markdown",
   "id": "ea08ec13",
   "metadata": {},
   "source": [
    "## Example"
   ]
  },
  {
   "cell_type": "code",
   "execution_count": 4,
   "id": "89c78bc9",
   "metadata": {},
   "outputs": [],
   "source": [
    "pasapalabra_program_by_date('19/08/2019')"
   ]
  },
  {
   "cell_type": "code",
   "execution_count": null,
   "id": "fa4b0ad5",
   "metadata": {},
   "outputs": [],
   "source": []
  }
 ],
 "metadata": {
  "kernelspec": {
   "display_name": "Python 3 (ipykernel)",
   "language": "python",
   "name": "python3"
  },
  "language_info": {
   "codemirror_mode": {
    "name": "ipython",
    "version": 3
   },
   "file_extension": ".py",
   "mimetype": "text/x-python",
   "name": "python",
   "nbconvert_exporter": "python",
   "pygments_lexer": "ipython3",
   "version": "3.8.11"
  }
 },
 "nbformat": 4,
 "nbformat_minor": 5
}
